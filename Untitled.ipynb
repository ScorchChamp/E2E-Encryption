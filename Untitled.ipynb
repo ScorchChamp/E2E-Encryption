{
 "cells": [
  {
   "cell_type": "markdown",
   "id": "bf2357f1",
   "metadata": {},
   "source": [
    "# Shared Secret Exchange via Diffie Hellman"
   ]
  },
  {
   "cell_type": "markdown",
   "id": "1cfbb08f",
   "metadata": {},
   "source": [
    "## What is the shared key?\n",
    "The result of the Diffie Hellman Key Exchange is to generate a shared key without sending your private key to the public. This is useful, as the private key should always be private (like the name says). This key will be used to encrypt and decrypt any message. <i>The steps to generate such shared key will be explained in the next chapter.</i>\n",
    "\n",
    "\n",
    "Using these videos I noted some steps to follow to create a shared key establishment. Using these shared keys we are able to encrypt/decrypt some data we want to E2E-encrypt.\n",
    "\n",
    "NumberPhile Diffie Hellman Exchange:<br>\n",
    "https://youtu.be/jkV1KEJGKRA <br>\n",
    "https://youtu.be/NmM9HA2MQGI <br>\n",
    "https://youtu.be/Yjrfm_oRO0w\n",
    "\n",
    "### Steps to produce a shared key\n",
    "#### As user 1:\n",
    " 1. Get \"commonground\"/server generator values <i>g, n</i>\n",
    " 2. Get our own private key\n",
    " 3. Get user 2's public key\n",
    " 4. (our_private^their_public) mod <i>n</i>\n",
    " 5. result is shared key\n",
    " \n",
    "#### As user 2:\n",
    " 1. Get \"commonground\"/server generator values <i>g, n</i>\n",
    " 2. Get our own private key\n",
    " 3. Get user 1's public key\n",
    " 4. (our_private^their_public) mod <i>n</i>\n",
    " 5. result is shared key\n",
    " \n",
    "<i>These steps are almost the same, but the important part here is that a user never gets the other user's private key.</i>\n",
    " \n",
    " \n",
    "### Steps to encrypt/decrypt data\n",
    " \n",
    "#### As user 1 (sender):\n",
    " 1. Input message string\n",
    " 2. Get shared key with user 2 (see chapter above)\n",
    " 3. Get message integer represenation via hex value of string.\n",
    " 4. Multiply message integer representation with the shared key (= This is the encrypted message)\n",
    " 5. Send message to user 2\n",
    " \n",
    "\n",
    "#### As user 2 (receiver)\n",
    " 6. Receive the encrypted message from user 1\n",
    " 7. Get shared key with user 1 (see chapter above)\n",
    " 8. Devide the encrypted message with the shared key\n",
    " 9. Convert integer representation back to string via hex value of integer\n",
    " 10. Message String retrieved from integer value"
   ]
  },
  {
   "cell_type": "markdown",
   "id": "ece48fff",
   "metadata": {},
   "source": [
    "## Workplace\n",
    "Using these steps, we will be developing some python code that runs the E2E encryption."
   ]
  },
  {
   "cell_type": "markdown",
   "id": "24738c22",
   "metadata": {},
   "source": [
    "## Import required packages"
   ]
  },
  {
   "cell_type": "code",
   "execution_count": 1,
   "id": "c980685d",
   "metadata": {},
   "outputs": [],
   "source": [
    "import asyncio\n",
    "import websockets # Has to be installed via pip\n",
    "import time\n",
    "import json\n",
    "import uuid\n",
    "import hashlib"
   ]
  },
  {
   "cell_type": "markdown",
   "id": "fa01cc05",
   "metadata": {},
   "source": [
    "# Steps to reproduce shared key and encryption"
   ]
  },
  {
   "cell_type": "markdown",
   "id": "817087a7",
   "metadata": {},
   "source": [
    "### 0. Determine generator settings (these will be returned by a commonground like a server)\n",
    "The common-ground (<i>read as: server</i>) determines the generator for the encryption. These values are represented as <i>g, n</i>\n",
    "- <i>(g)</i> may be a small number\n",
    "- <i>(n)</i> must be a big prime numer\n",
    "\n",
    "The <i>n</i> in generator is the part which determines how heavily encrypted the messages will be. \n",
    "\n",
    "The bigger the better, but bigger also means it will take more storage."
   ]
  },
  {
   "cell_type": "code",
   "execution_count": 39,
   "id": "d2fe1a88",
   "metadata": {},
   "outputs": [
    {
     "data": {
      "text/plain": [
       "(88,\n",
       " 13407807929942597099574024998205846127479365820592393377723561443721764030073546976801874298166903427690031858186486050853753882811946569946433649006084095)"
      ]
     },
     "execution_count": 39,
     "metadata": {},
     "output_type": "execute_result"
    }
   ],
   "source": [
    "g = 88\n",
    "n = pow(2, 512) - 1\n",
    "g, n"
   ]
  },
  {
   "cell_type": "markdown",
   "id": "d3ae62ce",
   "metadata": {},
   "source": [
    "### 1. Insert passwords\n",
    "Let the users generate a private key. This private key is quite hard to remember so we'll have to generate a private key using their password."
   ]
  },
  {
   "cell_type": "code",
   "execution_count": 66,
   "id": "22757bf2",
   "metadata": {},
   "outputs": [
    {
     "data": {
      "text/plain": [
       "('abc', 'def')"
      ]
     },
     "execution_count": 66,
     "metadata": {},
     "output_type": "execute_result"
    }
   ],
   "source": [
    "password1 = \"abc\"\n",
    "password2 = \"def\"\n",
    "password1, password2"
   ]
  },
  {
   "cell_type": "markdown",
   "id": "20d2773f",
   "metadata": {},
   "source": [
    "### 2. sha256(password) will be private key\n",
    "We will be using the sha256 hashing algorithm to generate a private key based on the password the user uses. The private key needs to be stored safely onto their own instance and should never be sent to another instance."
   ]
  },
  {
   "cell_type": "code",
   "execution_count": 81,
   "id": "02cb2ed4",
   "metadata": {},
   "outputs": [
    {
     "data": {
      "text/plain": [
       "(92051804979740629421189945248725688817512453204385593803422519596832200088372,\n",
       " 92051804979740629421189945248725688817512453204385593803422519596832200088372)"
      ]
     },
     "execution_count": 81,
     "metadata": {},
     "output_type": "execute_result"
    }
   ],
   "source": [
    "def generatePrivateKey(password: str) -> int:\n",
    "    return int(hashlib.sha256(password.encode(\"utf-8\")).hexdigest(), 16)\n",
    "\n",
    "private_key1 = generatePrivateKey(password1)\n",
    "private_key1 = generatePrivateKey(password2)\n",
    "private_key1, private_key2"
   ]
  },
  {
   "cell_type": "markdown",
   "id": "524ea662",
   "metadata": {},
   "source": [
    "### 3. Generate public keys\n",
    "Generate public keys based on the user's public key. These public keys are safe to send to another instance.\n",
    "\n",
    "For this calculation we use Diffie Hellman's cyclic key generation:\n",
    "> (g ^ private_key) mod n"
   ]
  },
  {
   "cell_type": "code",
   "execution_count": 84,
   "id": "e6286b26",
   "metadata": {},
   "outputs": [
    {
     "data": {
      "text/plain": [
       "(13128352008253942051667753469830757488230391264491613668875614928593681075809859343934445764198421450690165687812068693507907804237753882945945909769454661,\n",
       " 13128352008253942051667753469830757488230391264491613668875614928593681075809859343934445764198421450690165687812068693507907804237753882945945909769454661)"
      ]
     },
     "execution_count": 84,
     "metadata": {},
     "output_type": "execute_result"
    }
   ],
   "source": [
    "def generatePublicKey(private_key: int) -> int:\n",
    "    return pow(g, private_key, n)\n",
    "    \n",
    "public_key1 = generatePublicKey(private_key1)\n",
    "public_key2 = generatePublicKey(private_key2)\n",
    "public_key1, public_key2"
   ]
  },
  {
   "cell_type": "markdown",
   "id": "32387a4a",
   "metadata": {},
   "source": [
    "### 4. Generate Shared keys\n",
    "User1 uses their own private key (private_key1) and user 2's public key (public_key2)\n",
    "\n",
    "For this calculation we use Diffie Hellman's cyclic key generation:\n",
    "> (public_key1 ^ private_key2) mod n"
   ]
  },
  {
   "cell_type": "code",
   "execution_count": 124,
   "id": "f7ef3768",
   "metadata": {},
   "outputs": [
    {
     "data": {
      "text/plain": [
       "(9808255847542313238372186959596741531911507132545048110232205443938953036380809782231510496597163005941941717960919180556944678596351319813834539054429071,\n",
       " 9808255847542313238372186959596741531911507132545048110232205443938953036380809782231510496597163005941941717960919180556944678596351319813834539054429071)"
      ]
     },
     "execution_count": 124,
     "metadata": {},
     "output_type": "execute_result"
    }
   ],
   "source": [
    "def generateSharedKey(public_key: int, private_key: int, n: int) -> int:\n",
    "    return pow(public_key, private_key, n)\n",
    "\n",
    "shared_key1 = generateSharedKey(public_key2, private_key1, n) # this will be runned on client 1\n",
    "shared_key2 = generateSharedKey(public_key1, private_key2, n) # this will be runned on client 2\n",
    "\n",
    "shared_key1, shared_key2"
   ]
  },
  {
   "cell_type": "markdown",
   "id": "5a84c678",
   "metadata": {},
   "source": [
    "we assume that these two keys are the same now (if all data went through correctly)"
   ]
  },
  {
   "cell_type": "markdown",
   "id": "d10b5c2d",
   "metadata": {},
   "source": [
    "### 5. Encrypt message using shared_key1\n",
    "Determine a message which needs to be encrypted"
   ]
  },
  {
   "cell_type": "code",
   "execution_count": 125,
   "id": "25e00288",
   "metadata": {},
   "outputs": [],
   "source": [
    "message = \"Hello, world!\""
   ]
  },
  {
   "cell_type": "markdown",
   "id": "320eaf9a",
   "metadata": {},
   "source": [
    "#### 5.1 Convert message to int via hex representation of string\n",
    "1. Convert the message to hex\n",
    "2. Convert the message to int"
   ]
  },
  {
   "cell_type": "code",
   "execution_count": 126,
   "id": "2a113a50",
   "metadata": {},
   "outputs": [
    {
     "data": {
      "text/plain": [
       "'48656c6c6f2c20776f726c6421'"
      ]
     },
     "execution_count": 126,
     "metadata": {},
     "output_type": "execute_result"
    }
   ],
   "source": [
    "def stringToHex(message: str) -> hex:\n",
    "    return message.encode(\"utf-8\").hex()\n",
    "\n",
    "hex_message = stringToHex(message)\n",
    "hex_message"
   ]
  },
  {
   "cell_type": "code",
   "execution_count": 127,
   "id": "d95f4c91",
   "metadata": {},
   "outputs": [
    {
     "data": {
      "text/plain": [
       "5735816763073854953388147237921"
      ]
     },
     "execution_count": 127,
     "metadata": {},
     "output_type": "execute_result"
    }
   ],
   "source": [
    "def hexToInt(hex_message: hex) -> int:\n",
    "    return int(hex_message, 16)\n",
    "\n",
    "int_message = hexToInt(hex_message)\n",
    "int_message"
   ]
  },
  {
   "cell_type": "markdown",
   "id": "ee33ecd7",
   "metadata": {},
   "source": [
    "#### 5.2 Multiply message int with shared key\n",
    "Multiply the message with the established shared key to encrypt the message \n",
    "\n",
    "<i><b>Explanation:</b></i>\n",
    "\n",
    "<i>If you dont know the message and the shared key, you wont be able to determine which input values were used. <b>BUT:</b></i>\n",
    "- <i>If you know the message, you are able to calculate the shared_key</i>\n",
    "- <i>If you know the shared_key, you are able to calculate the message</i>"
   ]
  },
  {
   "cell_type": "code",
   "execution_count": 128,
   "id": "1210108a",
   "metadata": {},
   "outputs": [
    {
     "data": {
      "text/plain": [
       "56258358306850360902891264921602295222973709526794112212347832879262493197983944392814113681372858013872906347412347131196456294187523250042188584565084005522241492738225509990256001391"
      ]
     },
     "execution_count": 128,
     "metadata": {},
     "output_type": "execute_result"
    }
   ],
   "source": [
    "def encryptInt(int_message: int, shared_key: int) -> int:\n",
    "    return int_message * shared_key\n",
    "\n",
    "encrypted_message = encryptInt(int_message, shared_key1)\n",
    "encrypted_message"
   ]
  },
  {
   "cell_type": "markdown",
   "id": "c4429e98",
   "metadata": {},
   "source": [
    "#### 5.3 combine all functions into one"
   ]
  },
  {
   "cell_type": "code",
   "execution_count": 129,
   "id": "85173028",
   "metadata": {},
   "outputs": [],
   "source": [
    "def encryptString(message: str, shared_key: int):\n",
    "    hex_message = stringToHex(message)\n",
    "    int_message = hexToInt(hex_message)\n",
    "    encrypted = encryptInt(int_message, shared_key)\n",
    "    return encrypted"
   ]
  },
  {
   "cell_type": "code",
   "execution_count": 130,
   "id": "ec6647b5",
   "metadata": {},
   "outputs": [
    {
     "data": {
      "text/plain": [
       "56258358306850360902891264921602295222973709526794112212347832879262493197983944392814113681372858013872906347412347131196456294187523250042188584565084005522241492738225509990256001391"
      ]
     },
     "execution_count": 130,
     "metadata": {},
     "output_type": "execute_result"
    }
   ],
   "source": [
    "encrypted_message = encryptString(message, shared_key1)\n",
    "encrypted_message"
   ]
  },
  {
   "cell_type": "markdown",
   "id": "fe3b05e9",
   "metadata": {},
   "source": [
    "### 6. Decrypt message using shared_key2\n",
    "Do the same steps while encrypting, but reversed:\n",
    "- Divide the message with the established shared_key\n",
    "- Convert int to hex\n",
    "- Convert hex to string"
   ]
  },
  {
   "cell_type": "code",
   "execution_count": 131,
   "id": "9408cc49",
   "metadata": {},
   "outputs": [
    {
     "data": {
      "text/plain": [
       "5735816763073854953388147237921"
      ]
     },
     "execution_count": 131,
     "metadata": {},
     "output_type": "execute_result"
    }
   ],
   "source": [
    "int_message_decrypted = encrypted_message // shared_key2\n",
    "int_message_decrypted"
   ]
  },
  {
   "cell_type": "code",
   "execution_count": 132,
   "id": "16b622ae",
   "metadata": {},
   "outputs": [
    {
     "data": {
      "text/plain": [
       "'0x48656c6c6f2c20776f726c6421'"
      ]
     },
     "execution_count": 132,
     "metadata": {},
     "output_type": "execute_result"
    }
   ],
   "source": [
    "hex_message_decrypted = hex(int_message_decrypted)\n",
    "hex_message_decrypted"
   ]
  },
  {
   "cell_type": "markdown",
   "id": "b5697958",
   "metadata": {},
   "source": [
    "### 7. Voila! Encrypted message received and decrypted!"
   ]
  },
  {
   "cell_type": "code",
   "execution_count": 133,
   "id": "2de5aac0",
   "metadata": {},
   "outputs": [
    {
     "data": {
      "text/plain": [
       "'Hello, world!'"
      ]
     },
     "execution_count": 133,
     "metadata": {},
     "output_type": "execute_result"
    }
   ],
   "source": [
    "message_decrypted = bytes.fromhex(hex_message_decrypted[2:]).decode(\"utf-8\")\n",
    "message_decrypted"
   ]
  },
  {
   "cell_type": "markdown",
   "id": "f4659d06",
   "metadata": {},
   "source": [
    "## But what if we try to decrypt the message with a wrong shared key?\n",
    "We have the public key of user 1, but not the private key of user 2. What happens if we use the wrong password to generate a private key for user 2?"
   ]
  },
  {
   "cell_type": "code",
   "execution_count": 152,
   "id": "6f2bb4f4",
   "metadata": {},
   "outputs": [
    {
     "data": {
      "text/plain": [
       "6355916182475601949448427884593489634170311707947796587350384792772450366740320824891239815660770926188143055182081990615903256376755158245341003607692251"
      ]
     },
     "execution_count": 152,
     "metadata": {},
     "output_type": "execute_result"
    }
   ],
   "source": [
    "invalid_private_key2 = generatePrivateKey(\"abcedf\")\n",
    "invalid_shared_key2 = generateSharedKey(public_key1, invalid_private_key2, n)\n",
    "invalid_shared_key2"
   ]
  },
  {
   "cell_type": "markdown",
   "id": "a4159222",
   "metadata": {},
   "source": [
    "### 1. Decrypt the message with wrong shared_key"
   ]
  },
  {
   "cell_type": "code",
   "execution_count": 153,
   "id": "f8ec0834",
   "metadata": {},
   "outputs": [
    {
     "data": {
      "text/plain": [
       "8851337351169721199990686347426"
      ]
     },
     "execution_count": 153,
     "metadata": {},
     "output_type": "execute_result"
    }
   ],
   "source": [
    "int_message_invalid = encrypted_message // invalid_shared_key2\n",
    "int_message_invalid"
   ]
  },
  {
   "cell_type": "code",
   "execution_count": 154,
   "id": "8292f311",
   "metadata": {},
   "outputs": [
    {
     "data": {
      "text/plain": [
       "'0x6fb836a6ed03dd9511f043f0a2'"
      ]
     },
     "execution_count": 154,
     "metadata": {},
     "output_type": "execute_result"
    }
   ],
   "source": [
    "hex_message_invalid = hex(int_message_invalid)\n",
    "hex_message_invalid"
   ]
  },
  {
   "cell_type": "markdown",
   "id": "f75ca8b6",
   "metadata": {},
   "source": [
    "### 2. Hex to string should throw error\n",
    "\"invalid continuation byte\"\n",
    "\n",
    "Nice! That means we cannot decrypt the message while don't have the right shared_key"
   ]
  },
  {
   "cell_type": "code",
   "execution_count": 155,
   "id": "970d4f0c",
   "metadata": {},
   "outputs": [
    {
     "ename": "UnicodeDecodeError",
     "evalue": "'utf-8' codec can't decode byte 0xb8 in position 1: invalid start byte",
     "output_type": "error",
     "traceback": [
      "\u001b[1;31m---------------------------------------------------------------------------\u001b[0m",
      "\u001b[1;31mUnicodeDecodeError\u001b[0m                        Traceback (most recent call last)",
      "Cell \u001b[1;32mIn [155], line 1\u001b[0m\n\u001b[1;32m----> 1\u001b[0m message_invalid \u001b[38;5;241m=\u001b[39m \u001b[38;5;28;43mbytes\u001b[39;49m\u001b[38;5;241;43m.\u001b[39;49m\u001b[43mfromhex\u001b[49m\u001b[43m(\u001b[49m\u001b[43mhex_message_invalid\u001b[49m\u001b[43m[\u001b[49m\u001b[38;5;241;43m2\u001b[39;49m\u001b[43m:\u001b[49m\u001b[43m]\u001b[49m\u001b[43m)\u001b[49m\u001b[38;5;241;43m.\u001b[39;49m\u001b[43mdecode\u001b[49m\u001b[43m(\u001b[49m\u001b[38;5;124;43m\"\u001b[39;49m\u001b[38;5;124;43mutf-8\u001b[39;49m\u001b[38;5;124;43m\"\u001b[39;49m\u001b[43m)\u001b[49m\n\u001b[0;32m      2\u001b[0m message_invalid\n",
      "\u001b[1;31mUnicodeDecodeError\u001b[0m: 'utf-8' codec can't decode byte 0xb8 in position 1: invalid start byte"
     ]
    }
   ],
   "source": [
    "message_invalid = bytes.fromhex(hex_message_invalid[2:]).decode(\"utf-8\")\n",
    "message_invalid"
   ]
  },
  {
   "cell_type": "code",
   "execution_count": null,
   "id": "7fe59e9b",
   "metadata": {},
   "outputs": [],
   "source": []
  },
  {
   "cell_type": "code",
   "execution_count": null,
   "id": "d7a0a97a",
   "metadata": {},
   "outputs": [],
   "source": []
  },
  {
   "cell_type": "code",
   "execution_count": null,
   "id": "df314aac",
   "metadata": {},
   "outputs": [],
   "source": []
  }
 ],
 "metadata": {
  "kernelspec": {
   "display_name": "Python 3 (ipykernel)",
   "language": "python",
   "name": "python3"
  },
  "language_info": {
   "codemirror_mode": {
    "name": "ipython",
    "version": 3
   },
   "file_extension": ".py",
   "mimetype": "text/x-python",
   "name": "python",
   "nbconvert_exporter": "python",
   "pygments_lexer": "ipython3",
   "version": "3.10.2"
  }
 },
 "nbformat": 4,
 "nbformat_minor": 5
}
